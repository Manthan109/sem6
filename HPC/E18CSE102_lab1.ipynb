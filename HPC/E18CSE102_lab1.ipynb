{
  "nbformat": 4,
  "nbformat_minor": 0,
  "metadata": {
    "colab": {
      "name": "Untitled",
      "provenance": []
    },
    "kernelspec": {
      "name": "python3",
      "display_name": "Python 3"
    }
  },
  "cells": [
    {
      "cell_type": "code",
      "metadata": {
        "colab": {
          "base_uri": "https://localhost:8080/"
        },
        "id": "27xG-LYN_SUT",
        "outputId": "e9a391d9-f373-4c94-959c-f333ef9fd723"
      },
      "source": [
        "import time\r\n",
        "start = time.time()\r\n",
        "\r\n",
        "a=[[1,2,3],[4,5,6],[7,8,9]]\r\n",
        "b=[[1,2,3],[4,5,6],[7,8,9]]\r\n",
        "result=[[0,0,0],[0,0,0],[0,0,0]]\r\n",
        "\r\n",
        "for i in range(len(a)):\r\n",
        "  for j in range(len(b[0])):\r\n",
        "    for k in range(len(b)):\r\n",
        "      result[i][j]+=a[i][k]*b[k][j]\r\n",
        "end = time.time()\r\n",
        "for r in result:\r\n",
        "  print(r)\r\n",
        "\r\n",
        "\r\n",
        "print(f\"Runtime of the program is {end - start}\")"
      ],
      "execution_count": 2,
      "outputs": [
        {
          "output_type": "stream",
          "text": [
            "[30, 36, 42]\n",
            "[66, 81, 96]\n",
            "[102, 126, 150]\n",
            "Runtime of the program is 0.00016021728515625\n"
          ],
          "name": "stdout"
        }
      ]
    },
    {
      "cell_type": "code",
      "metadata": {
        "colab": {
          "base_uri": "https://localhost:8080/"
        },
        "id": "DxDSzx_OAVqC",
        "outputId": "94861b11-774e-4203-c1db-a23b6b6f784b"
      },
      "source": [
        "import numpy as np\r\n",
        "start = time.time()\r\n",
        "\r\n",
        "a=([1,2,3],[4,5,6],[7,8,9])\r\n",
        "b=([1,2,3],[4,5,6],[7,8,9])\r\n",
        "\r\n",
        "res = np.dot(a,b)\r\n",
        "end=time.time()\r\n",
        "for r in res:\r\n",
        "  print(r)\r\n",
        "\r\n",
        "\r\n",
        "print(f\"Runtime of the program is {end - start}\")"
      ],
      "execution_count": null,
      "outputs": [
        {
          "output_type": "stream",
          "text": [
            "[30 36 42]\n",
            "[66 81 96]\n",
            "[102 126 150]\n",
            "Runtime of the program is 0.0003666877746582031\n"
          ],
          "name": "stdout"
        }
      ]
    },
    {
      "cell_type": "code",
      "metadata": {
        "id": "3DZhR5pTCC8U"
      },
      "source": [
        "def foo(bar, result, index):\r\n",
        "    print('hello {0}'.format(bar))\r\n",
        "    result[index] = \"foo\"\r\n",
        "\r\n",
        "from threading import Thread\r\n",
        "\r\n",
        "threads = [None] * 10\r\n",
        "results = [None] * 10\r\n",
        "\r\n",
        "for i in range(len(threads)):\r\n",
        "    threads[i] = Thread(target=foo, args=('world!', results, i))\r\n",
        "    threads[i].start()\r\n",
        "\r\n",
        "# do some other stuff\r\n",
        "\r\n",
        "for i in range(len(threads)):\r\n",
        "    threads[i].join()\r\n",
        "\r\n",
        "print(\" \".join(results))  # what sound does a metasyntactic locomotive make?"
      ],
      "execution_count": null,
      "outputs": []
    },
    {
      "cell_type": "code",
      "metadata": {
        "colab": {
          "base_uri": "https://localhost:8080/"
        },
        "id": "lMuxaWuHLSNH",
        "outputId": "3c0cd667-4f61-47b4-fd70-d24d69758311"
      },
      "source": [
        "def matrixMul(a, b, res):\r\n",
        "  start=time.time()\r\n",
        "  for i in range(len(a)):\r\n",
        "    for j in range(len(b[0])):\r\n",
        "      for k in range(len(b)):\r\n",
        "        res[i][j]+=a[i][k]*b[k][j]\r\n",
        "  end = time.time()\r\n",
        "  print(f\"Runtime of the program is {end - start}\")\r\n",
        "\r\n",
        "from threading import Thread\r\n",
        "threads=[None]*len(a)\r\n",
        "a=[[1,2,3],[4,5,6],[7,8,9]]\r\n",
        "b=[[1,2,3],[4,5,6],[7,8,9]]\r\n",
        "results=[[0,0,0],[0,0,0],[0,0,0]]\r\n",
        "\r\n",
        "for i in range(len(threads)):\r\n",
        "    thread = Thread(target=matrixMul, args=(a,b,results))\r\n",
        "    threads[i]=thread\r\n",
        "    threads[i].start()\r\n",
        "\r\n",
        "for i in range(len(threads)):\r\n",
        "    threads[i].join()\r\n",
        "\r\n",
        "print(results)"
      ],
      "execution_count": null,
      "outputs": [
        {
          "output_type": "stream",
          "text": [
            "Runtime of the program is 1.6689300537109375e-05\n",
            "[[30, 36, 42], [66, 81, 96], [102, 126, 150]]\n"
          ],
          "name": "stdout"
        }
      ]
    },
    {
      "cell_type": "code",
      "metadata": {
        "id": "E0Dc14kUL_r8",
        "colab": {
          "base_uri": "https://localhost:8080/"
        },
        "outputId": "b61fbb9b-adba-46b7-9a78-92f3e7496fb6"
      },
      "source": [
        "from threading import Thread\r\n",
        "import os\r\n",
        "\r\n",
        "X=[[1,2,3],[4,5,6],[7,8,9]]\r\n",
        "Y=[[1,2,3],[4,5,6],[7,8,9]]\r\n",
        "results=[[0,0,0],[0,0,0],[0,0,0]]\r\n",
        "\r\n",
        "threads = [None]*len(X)\r\n",
        "\r\n",
        "def dot_product(X,Y,result): #input is of one row of X and the entire Y matrix  \r\n",
        "    for i in range(len(X)): \r\n",
        "      for j in range(len(Y[0])):\r\n",
        "        for k in range(len(Y)): \r\n",
        "          result[i][j]+= X[0] * Y[j][i]\r\n",
        "  \r\n",
        "start_time = time.time()\r\n",
        "\r\n",
        "for i in range(len(X[0])):\r\n",
        "  thread = Thread(target=dot_product,args=(X[i],Y,results))\r\n",
        "  threads[i] = thread\r\n",
        "  thread.start()\r\n",
        "\r\n",
        "for i in range(len(threads)):\r\n",
        "  threads[i].join()\r\n",
        "end_time = time.time() - start_time\r\n",
        "\r\n",
        "print(\"time taken is:\",end_time)\r\n",
        "print(results)"
      ],
      "execution_count": 10,
      "outputs": [
        {
          "output_type": "stream",
          "text": [
            "time taken is: 0.0038595199584960938\n",
            "[[36, 144, 252], [72, 180, 288], [108, 216, 324]]\n"
          ],
          "name": "stdout"
        }
      ]
    },
    {
      "cell_type": "code",
      "metadata": {
        "colab": {
          "base_uri": "https://localhost:8080/"
        },
        "id": "hxc8n9Fmby48",
        "outputId": "ab254e76-32c8-4eaf-c940-ad0b3f41fabd"
      },
      "source": [
        "#LINEAR SEARCH\r\n",
        "A=[1,2,3,4,5,6,7,8,9,10,11,12,13,14,15,16,17,18,19,20,21,22,23,24,25,26,27,28,29,30,31,32,33,34,35,36,37,38,39,40,41,42,43,44,45,46,47,48,49,50]\r\n",
        "def linear_search(A,x):\r\n",
        "  for i in range(len(A)):\r\n",
        "    if(A[i]==x):\r\n",
        "        print(i)\r\n",
        "        return;\r\n",
        "  print(-1)\r\n",
        "\r\n",
        "start_time = time.time()\r\n",
        "linear_search(A,29)\r\n",
        "end_time=time.time()\r\n",
        "print(f\"Time Taken: {end_time-start_time}\")"
      ],
      "execution_count": 3,
      "outputs": [
        {
          "output_type": "stream",
          "text": [
            "28\n",
            "Time Taken: 0.0003113746643066406\n"
          ],
          "name": "stdout"
        }
      ]
    },
    {
      "cell_type": "code",
      "metadata": {
        "colab": {
          "base_uri": "https://localhost:8080/"
        },
        "id": "qNypy1cb7QLD",
        "outputId": "b2a6231c-1f2f-4cef-8e9b-be1c9ee6372c"
      },
      "source": [
        "start_time = time.time()\r\n",
        "A.index(29)\r\n",
        "end_time=time.time()\r\n",
        "print(f\"Time Taken: {end_time-start_time}\")"
      ],
      "execution_count": 4,
      "outputs": [
        {
          "output_type": "stream",
          "text": [
            "Time Taken: 3.719329833984375e-05\n"
          ],
          "name": "stdout"
        }
      ]
    },
    {
      "cell_type": "code",
      "metadata": {
        "colab": {
          "base_uri": "https://localhost:8080/"
        },
        "id": "-Q1NTftX8Mmo",
        "outputId": "28a00087-bf5b-4ccc-e32f-6430e26fb0ca"
      },
      "source": [
        "from threading import Thread\r\n",
        "\r\n",
        "def search(A,i,j,x):\r\n",
        "  for k in range(i,j):\r\n",
        "    if(A[k]==x):\r\n",
        "      print(k)\r\n",
        "      return;\r\n",
        "\r\n",
        "start_time=time.time()\r\n",
        "k=0\r\n",
        "for i in range(2):\r\n",
        "  j=k+(len(A)//2)\r\n",
        "  thread = Thread(target=search,args=(A,k,j,50))\r\n",
        "  k=j\r\n",
        "  thread.start()\r\n",
        "thread.join()\r\n",
        "end_time = time.time() - start_time\r\n",
        "\r\n",
        "print(\"time taken is:\",end_time)\r\n",
        "\r\n",
        "  "
      ],
      "execution_count": 11,
      "outputs": [
        {
          "output_type": "stream",
          "text": [
            "49\n",
            "time taken is: 0.0033364295959472656\n"
          ],
          "name": "stdout"
        }
      ]
    },
    {
      "cell_type": "code",
      "metadata": {
        "colab": {
          "base_uri": "https://localhost:8080/"
        },
        "id": "XTs5Luux91VH",
        "outputId": "3fc89e4a-e8ed-4eaf-cedd-e8009b3d4c65"
      },
      "source": [
        "#ARRAY SUM\r\n",
        "\r\n",
        "start_time=time.time()\r\n",
        "res=0\r\n",
        "for i in range(len(A)):\r\n",
        "  res+=A[i]\r\n",
        "print(res)\r\n",
        "end_time=time.time()\r\n",
        "print(\"Time Taken:\",end_time-start_time)"
      ],
      "execution_count": 12,
      "outputs": [
        {
          "output_type": "stream",
          "text": [
            "1275\n",
            "Time Taken: 0.0017864704132080078\n"
          ],
          "name": "stdout"
        }
      ]
    },
    {
      "cell_type": "code",
      "metadata": {
        "colab": {
          "base_uri": "https://localhost:8080/"
        },
        "id": "Z4XQYXPiISE5",
        "outputId": "de9c8fef-f400-47f6-e2fe-8e579181a482"
      },
      "source": [
        "start_time=time.time()\r\n",
        "print(sum(A))\r\n",
        "end_time=time.time()\r\n",
        "print(\"Time Taken:\",end_time-start_time)"
      ],
      "execution_count": 13,
      "outputs": [
        {
          "output_type": "stream",
          "text": [
            "1275\n",
            "Time Taken: 0.0003459453582763672\n"
          ],
          "name": "stdout"
        }
      ]
    },
    {
      "cell_type": "code",
      "metadata": {
        "colab": {
          "base_uri": "https://localhost:8080/"
        },
        "id": "XDqp5KkYIfyE",
        "outputId": "e9f12470-1230-41a3-8351-672328dfbf6a"
      },
      "source": [
        "def array_sum(A,i,j,res):\r\n",
        "  for k in range(i,j):\r\n",
        "    res+=A[k]\r\n",
        "  print(res)\r\n",
        "\r\n",
        "start_time=time.time()\r\n",
        "res=0\r\n",
        "fin=0\r\n",
        "k=0\r\n",
        "for i in range(2):\r\n",
        "  j=k+25\r\n",
        "  thread = Thread(target=array_sum,args=(A,k,j,res))\r\n",
        "  k=j \r\n",
        "  thread.start()\r\n",
        "\r\n",
        "thread.join()\r\n",
        "end_time=time.time()\r\n",
        "print(\"Time Take:\",end_time-start_time)"
      ],
      "execution_count": 18,
      "outputs": [
        {
          "output_type": "stream",
          "text": [
            "325\n",
            "950\n",
            "Time Take: 0.002228975296020508\n"
          ],
          "name": "stdout"
        }
      ]
    },
    {
      "cell_type": "code",
      "metadata": {
        "colab": {
          "base_uri": "https://localhost:8080/"
        },
        "id": "suI2eGvFKB4Q",
        "outputId": "74b3fb4d-3511-4593-b3e8-2066bbc4761f"
      },
      "source": [
        "#PRIME NUMBERS\r\n",
        "import math\r\n",
        "\r\n",
        "star_time=time.time()\r\n",
        "for i in range(20,100):\r\n",
        "  flag=True\r\n",
        "  for j in range(2,int(math.sqrt(i))):\r\n",
        "    if(i%j==0):\r\n",
        "      flag=False\r\n",
        "      break\r\n",
        "  if(flag):\r\n",
        "    print(i)\r\n",
        "  \r\n",
        "\r\n",
        "end_time=time.time()\r\n",
        "\r\n",
        "print(\"Time taken:\",end_time-start_time)"
      ],
      "execution_count": 28,
      "outputs": [
        {
          "output_type": "stream",
          "text": [
            "23\n",
            "25\n",
            "29\n",
            "31\n",
            "35\n",
            "37\n",
            "41\n",
            "43\n",
            "47\n",
            "49\n",
            "53\n",
            "59\n",
            "61\n",
            "67\n",
            "71\n",
            "73\n",
            "79\n",
            "83\n",
            "89\n",
            "97\n",
            "Time taken: 1191.2466061115265\n"
          ],
          "name": "stdout"
        }
      ]
    },
    {
      "cell_type": "code",
      "metadata": {
        "id": "Svarmib8NqPk"
      },
      "source": [
        ""
      ],
      "execution_count": null,
      "outputs": []
    }
  ]
}